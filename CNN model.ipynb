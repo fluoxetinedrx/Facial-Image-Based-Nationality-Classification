{
 "cells": [
  {
   "cell_type": "code",
   "execution_count": null,
   "metadata": {
    "execution": {
     "execution_failed": "2025-05-05T07:30:00.638Z"
    },
    "trusted": true
   },
   "outputs": [],
   "source": [
    "import os\n",
    "import glob\n",
    "import pandas as pd\n",
    "import numpy as np\n",
    "from PIL import Image\n",
    "import matplotlib.pyplot as plt\n",
    "import tensorflow as tf\n",
    "from tensorflow.keras.layers import Input \n",
    "from sklearn.model_selection import train_test_split"
   ]
  },
  {
   "cell_type": "code",
   "execution_count": null,
   "metadata": {
    "_cell_guid": "b1076dfc-b9ad-4769-8c92-a6c4dae69d19",
    "_uuid": "8f2839f25d086af736a60e9eeb907d3b93b6e0e5",
    "execution": {
     "execution_failed": "2025-05-05T07:30:00.638Z"
    },
    "trusted": true
   },
   "outputs": [],
   "source": [
    "BASE_DIR = '/kaggle/input/dataset'\n",
    "IMG_SIZE = (64,64)\n",
    "\n",
    "# 1) Lấy tên class\n",
    "CLASS_NAMES = [\n",
    "    d for d in sorted(os.listdir(BASE_DIR))\n",
    "    if os.path.isdir(os.path.join(BASE_DIR, d))\n",
    "]\n",
    "print(\"Classes:\", CLASS_NAMES)\n",
    "# 2) Tạo DataFrame \n",
    "records = []\n",
    "for label, cls in enumerate(CLASS_NAMES):\n",
    "    for split in ['train', 'test']:\n",
    "        split_dir = os.path.join(BASE_DIR, cls, split)\n",
    "        if not os.path.isdir(split_dir):\n",
    "            continue\n",
    "        entries = os.listdir(split_dir)\n",
    "        has_subdirs = any(os.path.isdir(os.path.join(split_dir, e)) for e in entries)\n",
    "        if has_subdirs:\n",
    "            file_list = glob.glob(os.path.join(split_dir, '**', '*.*'), recursive=True)\n",
    "        else:\n",
    "            file_list = [os.path.join(split_dir, f) for f in entries]\n",
    "\n",
    "        for fp in sorted(file_list):\n",
    "            if fp.lower().endswith(('.jpg', '.jpeg', '.png')):\n",
    "                records.append({\n",
    "                    'filepath': fp,\n",
    "                    'label': label,\n",
    "                    'split': split\n",
    "                })\n",
    "df = pd.DataFrame(records)\n",
    "print(\"\\nSố lượng ảnh theo split (train/test):\\n\", df['split'].value_counts())\n",
    "\n",
    "# 3) Hàm tiền xử lý ảnh\n",
    "def preprocess(filepath):\n",
    "    img = Image.open(filepath).convert('RGB')\n",
    "    img = img.resize(IMG_SIZE, Image.LANCZOS)\n",
    "    arr = np.array(img, dtype='float32') / 255.0\n",
    "    return arr\n",
    "\n",
    "# 4) Tải train và test\n",
    "def load_data(split_name):\n",
    "    sub = df[df['split'] == split_name]\n",
    "    X = [preprocess(fp) for fp in sub['filepath']]\n",
    "    y = sub['label'].tolist()\n",
    "    return np.array(X), np.array(y)\n",
    "\n",
    "X_train_all, y_train_all = load_data('train')\n",
    "X_test,       y_test       = load_data('test')\n",
    "\n",
    "print(f\"Loaded X_train_all: {X_train_all.shape}, X_test: {X_test.shape}\")\n",
    "\n",
    "# 5) Tách val từ train\n",
    "X_train, X_val, y_train, y_val = train_test_split(\n",
    "    X_train_all, y_train_all,\n",
    "    test_size=0.2,         \n",
    "    stratify=y_train_all,  \n",
    "    random_state=42\n",
    ")\n",
    "\n",
    "print(\"Final shapes:\")\n",
    "print(\"  X_train:\", X_train.shape, \"y_train:\", y_train.shape)\n",
    "print(\"  X_val:  \", X_val.shape,   \"y_val:  \",   y_val.shape)\n",
    "print(\"  X_test: \", X_test.shape,  \"y_test: \",  y_test.shape)"
   ]
  },
  {
   "cell_type": "code",
   "execution_count": null,
   "metadata": {
    "trusted": true
   },
   "outputs": [],
   "source": [
    "print(\"Number of classes:\", len(CLASS_NAMES))\n",
    "print(\"Unique labels in y_train:\", np.unique(y_train))"
   ]
  },
  {
   "cell_type": "code",
   "execution_count": null,
   "metadata": {
    "execution": {
     "execution_failed": "2025-05-05T07:30:00.639Z"
    },
    "trusted": true
   },
   "outputs": [],
   "source": [
    "# Augmentation layer \n",
    "data_augmentation = tf.keras.Sequential([\n",
    "    tf.keras.layers.RandomFlip(\"horizontal\"),\n",
    "    tf.keras.layers.RandomRotation(0.1),\n",
    "    tf.keras.layers.RandomZoom(0.1),\n",
    "])\n",
    "\n",
    "model = tf.keras.Sequential([\n",
    "    Input(shape=(64,64, 3)),\n",
    "    data_augmentation,  # <-- Thêm augmentation vào đây\n",
    "    tf.keras.layers.Conv2D(32, (3, 3), activation='relu'),\n",
    "    tf.keras.layers.BatchNormalization(),\n",
    "    tf.keras.layers.MaxPooling2D((2, 2)),\n",
    "    tf.keras.layers.Dropout(0.25),\n",
    "    \n",
    "    tf.keras.layers.Conv2D(64, (3, 3), activation='relu'),\n",
    "    tf.keras.layers.BatchNormalization(),\n",
    "    tf.keras.layers.MaxPooling2D((2, 2)),\n",
    "    tf.keras.layers.Dropout(0.5),\n",
    "    \n",
    "    tf.keras.layers.Flatten(),\n",
    "    tf.keras.layers.Dense(128, activation='relu'),\n",
    "    tf.keras.layers.Dropout(0.5),\n",
    "    tf.keras.layers.Dense(len(CLASS_NAMES), activation='softmax')\n",
    "])\n",
    "model.summary()"
   ]
  },
  {
   "cell_type": "code",
   "execution_count": null,
   "metadata": {
    "execution": {
     "execution_failed": "2025-05-05T07:30:00.639Z"
    },
    "trusted": true
   },
   "outputs": [],
   "source": [
    "model.compile(\n",
    "    optimizer=tf.keras.optimizers.Adam(learning_rate=0.001),\n",
    "    loss='sparse_categorical_crossentropy',\n",
    "    metrics=['accuracy']\n",
    ")\n",
    "\n",
    "callbacks = [\n",
    "    tf.keras.callbacks.EarlyStopping(patience=5, restore_best_weights=True),\n",
    "    tf.keras.callbacks.ModelCheckpoint('best_model.keras', monitor='val_accuracy', save_best_only=True, mode='max')\n",
    "]\n"
   ]
  },
  {
   "cell_type": "code",
   "execution_count": null,
   "metadata": {
    "trusted": true
   },
   "outputs": [],
   "source": [
    "history = model.fit(\n",
    "    X_train, y_train,\n",
    "    validation_data=(X_val, y_val),\n",
    "    epochs=30,\n",
    "    batch_size=4,\n",
    "    callbacks=callbacks,\n",
    "    shuffle=True\n",
    ")"
   ]
  },
  {
   "cell_type": "code",
   "execution_count": null,
   "metadata": {
    "trusted": true
   },
   "outputs": [],
   "source": [
    "plt.plot(history.history['accuracy'], label='Train Accuracy')\n",
    "plt.plot(history.history['val_accuracy'], label='Val Accuracy')\n",
    "plt.title('Training Progress')\n",
    "plt.ylabel('Accuracy')\n",
    "plt.xlabel('Epoch')\n",
    "plt.legend()\n",
    "plt.show()"
   ]
  },
  {
   "cell_type": "code",
   "execution_count": null,
   "metadata": {
    "trusted": true
   },
   "outputs": [],
   "source": [
    "best_model = tf.keras.models.load_model(\"best_model.keras\")\n",
    "test_loss, test_acc = best_model.evaluate(X_test, y_test, verbose=0)\n",
    "print(f\"Test Accuracy: {test_acc:.4f}\")"
   ]
  }
 ],
 "metadata": {
  "kaggle": {
   "accelerator": "nvidiaTeslaT4",
   "dataSources": [
    {
     "datasetId": 7327504,
     "sourceId": 11675227,
     "sourceType": "datasetVersion"
    }
   ],
   "dockerImageVersionId": 31012,
   "isGpuEnabled": true,
   "isInternetEnabled": true,
   "language": "python",
   "sourceType": "notebook"
  },
  "kernelspec": {
   "display_name": "Python 3",
   "language": "python",
   "name": "python3"
  },
  "language_info": {
   "codemirror_mode": {
    "name": "ipython",
    "version": 3
   },
   "file_extension": ".py",
   "mimetype": "text/x-python",
   "name": "python",
   "nbconvert_exporter": "python",
   "pygments_lexer": "ipython3",
   "version": "3.11.11"
  }
 },
 "nbformat": 4,
 "nbformat_minor": 4
}
